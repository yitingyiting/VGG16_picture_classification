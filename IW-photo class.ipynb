{
 "cells": [
  {
   "cell_type": "code",
   "execution_count": 11,
   "id": "686a3b93",
   "metadata": {},
   "outputs": [],
   "source": [
    "from keras.applications.vgg16 import VGG16\n",
    "\n",
    "conv_base = VGG16(weights='imagenet',\n",
    "                  include_top=False,\n",
    "                  input_shape=(224, 224, 3))\n"
   ]
  },
  {
   "cell_type": "code",
   "execution_count": 12,
   "id": "36403475",
   "metadata": {},
   "outputs": [
    {
     "name": "stdout",
     "output_type": "stream",
     "text": [
      "Model: \"vgg16\"\n",
      "_________________________________________________________________\n",
      "Layer (type)                 Output Shape              Param #   \n",
      "=================================================================\n",
      "input_2 (InputLayer)         [(None, 224, 224, 3)]     0         \n",
      "_________________________________________________________________\n",
      "block1_conv1 (Conv2D)        (None, 224, 224, 64)      1792      \n",
      "_________________________________________________________________\n",
      "block1_conv2 (Conv2D)        (None, 224, 224, 64)      36928     \n",
      "_________________________________________________________________\n",
      "block1_pool (MaxPooling2D)   (None, 112, 112, 64)      0         \n",
      "_________________________________________________________________\n",
      "block2_conv1 (Conv2D)        (None, 112, 112, 128)     73856     \n",
      "_________________________________________________________________\n",
      "block2_conv2 (Conv2D)        (None, 112, 112, 128)     147584    \n",
      "_________________________________________________________________\n",
      "block2_pool (MaxPooling2D)   (None, 56, 56, 128)       0         \n",
      "_________________________________________________________________\n",
      "block3_conv1 (Conv2D)        (None, 56, 56, 256)       295168    \n",
      "_________________________________________________________________\n",
      "block3_conv2 (Conv2D)        (None, 56, 56, 256)       590080    \n",
      "_________________________________________________________________\n",
      "block3_conv3 (Conv2D)        (None, 56, 56, 256)       590080    \n",
      "_________________________________________________________________\n",
      "block3_pool (MaxPooling2D)   (None, 28, 28, 256)       0         \n",
      "_________________________________________________________________\n",
      "block4_conv1 (Conv2D)        (None, 28, 28, 512)       1180160   \n",
      "_________________________________________________________________\n",
      "block4_conv2 (Conv2D)        (None, 28, 28, 512)       2359808   \n",
      "_________________________________________________________________\n",
      "block4_conv3 (Conv2D)        (None, 28, 28, 512)       2359808   \n",
      "_________________________________________________________________\n",
      "block4_pool (MaxPooling2D)   (None, 14, 14, 512)       0         \n",
      "_________________________________________________________________\n",
      "block5_conv1 (Conv2D)        (None, 14, 14, 512)       2359808   \n",
      "_________________________________________________________________\n",
      "block5_conv2 (Conv2D)        (None, 14, 14, 512)       2359808   \n",
      "_________________________________________________________________\n",
      "block5_conv3 (Conv2D)        (None, 14, 14, 512)       2359808   \n",
      "_________________________________________________________________\n",
      "block5_pool (MaxPooling2D)   (None, 7, 7, 512)         0         \n",
      "=================================================================\n",
      "Total params: 14,714,688\n",
      "Trainable params: 14,714,688\n",
      "Non-trainable params: 0\n",
      "_________________________________________________________________\n"
     ]
    }
   ],
   "source": [
    "conv_base.summary()"
   ]
  },
  {
   "cell_type": "code",
   "execution_count": 2,
   "id": "0e8e29e7",
   "metadata": {},
   "outputs": [
    {
     "name": "stdout",
     "output_type": "stream",
     "text": [
      "env: SM_FRAMEWORK=tf.keras\n"
     ]
    }
   ],
   "source": [
    "import os\n",
    "import numpy as np\n",
    "%env SM_FRAMEWORK=tf.keras\n",
    "\n",
    "\n",
    "\n"
   ]
  },
  {
   "cell_type": "code",
   "execution_count": 5,
   "id": "d5ab714a",
   "metadata": {},
   "outputs": [],
   "source": [
    "from keras.preprocessing.image import ImageDataGenerator"
   ]
  },
  {
   "cell_type": "code",
   "execution_count": 54,
   "id": "13f79430",
   "metadata": {},
   "outputs": [
    {
     "name": "stdout",
     "output_type": "stream",
     "text": [
      "total training yes images: 60\n",
      "total training no images: 60\n",
      "total validation yes images: 20\n",
      "total validation no images: 20\n",
      "total test yes images: 20\n",
      "total test no images: 20\n"
     ]
    }
   ],
   "source": [
    "import os\n",
    "print('total training yes images:', len(os.listdir('C:/Users/Ylan/Desktop/2021 Q3/IW-photo1/train/yes')))\n",
    "print('total training no images:', len(os.listdir('C:/Users/Ylan/Desktop/2021 Q3/IW-photo1/train/no')))\n",
    "print('total validation yes images:', len(os.listdir('C:/Users/Ylan/Desktop/2021 Q3/IW-photo1/validation/yes')))\n",
    "print('total validation no images:', len(os.listdir('C:/Users/Ylan/Desktop/2021 Q3/IW-photo1/validation/no')))\n",
    "print('total test yes images:', len(os.listdir('C:/Users/Ylan/Desktop/2021 Q3/IW-photo1/test/yes')))\n",
    "print('total test no images:', len(os.listdir('C:/Users/Ylan/Desktop/2021 Q3/IW-photo1/test/no')))"
   ]
  },
  {
   "cell_type": "code",
   "execution_count": 55,
   "id": "643bc672",
   "metadata": {},
   "outputs": [
    {
     "name": "stdout",
     "output_type": "stream",
     "text": [
      "Found 120 images belonging to 2 classes.\n",
      "Found 40 images belonging to 2 classes.\n",
      "Found 40 images belonging to 2 classes.\n"
     ]
    }
   ],
   "source": [
    "import os\n",
    "import numpy as np\n",
    "from keras.preprocessing.image import ImageDataGenerator\n",
    "\n",
    "base_dir = 'C:/Users/Ylan/Desktop/2021 Q3/IW-photo1'\n",
    "\n",
    "train_dir = os.path.join(base_dir, 'train')\n",
    "validation_dir = os.path.join(base_dir, 'validation')\n",
    "test_dir = os.path.join(base_dir, 'test')\n",
    "\n",
    "datagen = ImageDataGenerator(rescale=1./255)\n",
    "batch_size = 10\n",
    "\n",
    "def extract_features(directory, sample_count):\n",
    "    features = np.zeros(shape=(sample_count, 7, 7, 512))\n",
    "    labels = np.zeros(shape=(sample_count))\n",
    "    generator = datagen.flow_from_directory(\n",
    "        directory,\n",
    "        target_size=(224, 224),\n",
    "        batch_size=batch_size,\n",
    "        class_mode='binary')\n",
    "    i = 0\n",
    "    for inputs_batch, labels_batch in generator:\n",
    "        features_batch = conv_base.predict(inputs_batch)\n",
    "        features[i * batch_size : (i + 1) * batch_size] = features_batch\n",
    "        labels[i * batch_size : (i + 1) * batch_size] = labels_batch\n",
    "        i += 1\n",
    "        if i * batch_size >= sample_count:\n",
    "            # Note that since generators yield data indefinitely in a loop,\n",
    "            # we must `break` after every image has been seen once.\n",
    "            break\n",
    "    return features, labels\n",
    "\n",
    "train_features, train_labels = extract_features(train_dir, 120)\n",
    "validation_features, validation_labels = extract_features(validation_dir, 20)\n",
    "test_features, test_labels = extract_features(test_dir, 20)"
   ]
  },
  {
   "cell_type": "code",
   "execution_count": 56,
   "id": "291ee68b",
   "metadata": {},
   "outputs": [],
   "source": [
    "train_features = np.reshape(train_features, (120, 7 * 7 * 512))\n",
    "validation_features = np.reshape(validation_features, (20, 7 * 7 * 512))\n",
    "test_features = np.reshape(test_features, (20, 7 * 7 * 512))"
   ]
  },
  {
   "cell_type": "code",
   "execution_count": 23,
   "id": "1d65ac84",
   "metadata": {},
   "outputs": [
    {
     "name": "stdout",
     "output_type": "stream",
     "text": [
      "env: SM_FRAMEWORK=tf.keras\n"
     ]
    }
   ],
   "source": [
    "%env SM_FRAMEWORK=tf.keras\n"
   ]
  },
  {
   "cell_type": "code",
   "execution_count": 25,
   "id": "bda8b188",
   "metadata": {},
   "outputs": [],
   "source": [
    "from tensorflow.keras import models\n",
    "\n",
    "\n"
   ]
  },
  {
   "cell_type": "code",
   "execution_count": 26,
   "id": "eb80c45c",
   "metadata": {},
   "outputs": [],
   "source": [
    "from tensorflow.keras import layers\n",
    "from tensorflow.keras import optimizers\n",
    "from tensorflow.keras import regularizers"
   ]
  },
  {
   "cell_type": "code",
   "execution_count": 57,
   "id": "9a6ec5d6",
   "metadata": {},
   "outputs": [],
   "source": [
    "model = models.Sequential()\n",
    "model.add(layers.Dense(256, kernel_regularizer=regularizers.l2(5e-5), \n",
    "                       activation='relu', input_dim=7 * 7 * 512))\n",
    "model.add(layers.Dropout(0.5))\n",
    "model.add(layers.Dense(1, activation='sigmoid'))\n"
   ]
  },
  {
   "cell_type": "code",
   "execution_count": 58,
   "id": "89d65e1e",
   "metadata": {},
   "outputs": [
    {
     "name": "stdout",
     "output_type": "stream",
     "text": [
      "Epoch 1/50\n",
      "12/12 [==============================] - 2s 118ms/step - loss: 0.8021 - acc: 0.5417 - val_loss: 0.5826 - val_acc: 0.8000\n",
      "Epoch 2/50\n",
      "12/12 [==============================] - 1s 113ms/step - loss: 0.5368 - acc: 0.7500 - val_loss: 0.5046 - val_acc: 0.9000\n",
      "Epoch 3/50\n",
      "12/12 [==============================] - 1s 110ms/step - loss: 0.3730 - acc: 0.8500 - val_loss: 0.4453 - val_acc: 0.9000\n",
      "Epoch 4/50\n",
      "12/12 [==============================] - 1s 110ms/step - loss: 0.2797 - acc: 0.9417 - val_loss: 0.3839 - val_acc: 0.8500\n",
      "Epoch 5/50\n",
      "12/12 [==============================] - 1s 111ms/step - loss: 0.2383 - acc: 0.9583 - val_loss: 0.4126 - val_acc: 0.9000\n",
      "Epoch 6/50\n",
      "12/12 [==============================] - 1s 111ms/step - loss: 0.2042 - acc: 0.9667 - val_loss: 0.3505 - val_acc: 0.9000\n",
      "Epoch 7/50\n",
      "12/12 [==============================] - 2s 127ms/step - loss: 0.1852 - acc: 0.9583 - val_loss: 0.3228 - val_acc: 0.9000\n",
      "Epoch 8/50\n",
      "12/12 [==============================] - 1s 113ms/step - loss: 0.1367 - acc: 0.9833 - val_loss: 0.3180 - val_acc: 0.9000\n",
      "Epoch 9/50\n",
      "12/12 [==============================] - 1s 116ms/step - loss: 0.1209 - acc: 0.9750 - val_loss: 0.3614 - val_acc: 0.9000\n",
      "Epoch 10/50\n",
      "12/12 [==============================] - 1s 113ms/step - loss: 0.1038 - acc: 0.9833 - val_loss: 0.3399 - val_acc: 0.9000\n",
      "Epoch 11/50\n",
      "12/12 [==============================] - 1s 116ms/step - loss: 0.0894 - acc: 0.9917 - val_loss: 0.3367 - val_acc: 0.9000\n",
      "Epoch 12/50\n",
      "12/12 [==============================] - 1s 110ms/step - loss: 0.0704 - acc: 1.0000 - val_loss: 0.3362 - val_acc: 0.9000\n",
      "Epoch 13/50\n",
      "12/12 [==============================] - 1s 109ms/step - loss: 0.0730 - acc: 0.9917 - val_loss: 0.2848 - val_acc: 0.9500\n",
      "Epoch 14/50\n",
      "12/12 [==============================] - 1s 111ms/step - loss: 0.0620 - acc: 1.0000 - val_loss: 0.3537 - val_acc: 0.8500\n",
      "Epoch 15/50\n",
      "12/12 [==============================] - 1s 110ms/step - loss: 0.0515 - acc: 1.0000 - val_loss: 0.3195 - val_acc: 0.9000\n",
      "Epoch 16/50\n",
      "12/12 [==============================] - 1s 109ms/step - loss: 0.0616 - acc: 0.9833 - val_loss: 0.2821 - val_acc: 0.9500\n",
      "Epoch 17/50\n",
      "12/12 [==============================] - 1s 113ms/step - loss: 0.0492 - acc: 1.0000 - val_loss: 0.3044 - val_acc: 0.9000\n",
      "Epoch 18/50\n",
      "12/12 [==============================] - 1s 109ms/step - loss: 0.0418 - acc: 1.0000 - val_loss: 0.2700 - val_acc: 0.9500\n",
      "Epoch 19/50\n",
      "12/12 [==============================] - 1s 110ms/step - loss: 0.0419 - acc: 1.0000 - val_loss: 0.2910 - val_acc: 0.9000\n",
      "Epoch 20/50\n",
      "12/12 [==============================] - 1s 112ms/step - loss: 0.0330 - acc: 1.0000 - val_loss: 0.3197 - val_acc: 0.9000\n",
      "Epoch 21/50\n",
      "12/12 [==============================] - 1s 111ms/step - loss: 0.0340 - acc: 1.0000 - val_loss: 0.2648 - val_acc: 0.9500\n",
      "Epoch 22/50\n",
      "12/12 [==============================] - 1s 111ms/step - loss: 0.0308 - acc: 1.0000 - val_loss: 0.3136 - val_acc: 0.9000\n",
      "Epoch 23/50\n",
      "12/12 [==============================] - 1s 111ms/step - loss: 0.0278 - acc: 1.0000 - val_loss: 0.3161 - val_acc: 0.9000\n",
      "Epoch 24/50\n",
      "12/12 [==============================] - 1s 117ms/step - loss: 0.0301 - acc: 1.0000 - val_loss: 0.2782 - val_acc: 0.9500\n",
      "Epoch 25/50\n",
      "12/12 [==============================] - 1s 105ms/step - loss: 0.0247 - acc: 1.0000 - val_loss: 0.3235 - val_acc: 0.9000\n",
      "Epoch 26/50\n",
      "12/12 [==============================] - 1s 120ms/step - loss: 0.0228 - acc: 1.0000 - val_loss: 0.2631 - val_acc: 0.9500\n",
      "Epoch 27/50\n",
      "12/12 [==============================] - 1s 123ms/step - loss: 0.0243 - acc: 1.0000 - val_loss: 0.2750 - val_acc: 0.9500\n",
      "Epoch 28/50\n",
      "12/12 [==============================] - 1s 122ms/step - loss: 0.0218 - acc: 1.0000 - val_loss: 0.2756 - val_acc: 0.9500\n",
      "Epoch 29/50\n",
      "12/12 [==============================] - 1s 121ms/step - loss: 0.0209 - acc: 1.0000 - val_loss: 0.2521 - val_acc: 0.9500\n",
      "Epoch 30/50\n",
      "12/12 [==============================] - 1s 112ms/step - loss: 0.0210 - acc: 1.0000 - val_loss: 0.2819 - val_acc: 0.9500\n",
      "Epoch 31/50\n",
      "12/12 [==============================] - 1s 112ms/step - loss: 0.0201 - acc: 1.0000 - val_loss: 0.2867 - val_acc: 0.9000\n",
      "Epoch 32/50\n",
      "12/12 [==============================] - 1s 124ms/step - loss: 0.0194 - acc: 1.0000 - val_loss: 0.3128 - val_acc: 0.9000\n",
      "Epoch 33/50\n",
      "12/12 [==============================] - 1s 107ms/step - loss: 0.0204 - acc: 1.0000 - val_loss: 0.2196 - val_acc: 0.9500\n",
      "Epoch 34/50\n",
      "12/12 [==============================] - 1s 108ms/step - loss: 0.0189 - acc: 1.0000 - val_loss: 0.3221 - val_acc: 0.9000\n",
      "Epoch 35/50\n",
      "12/12 [==============================] - 1s 110ms/step - loss: 0.0181 - acc: 1.0000 - val_loss: 0.2219 - val_acc: 0.9500\n",
      "Epoch 36/50\n",
      "12/12 [==============================] - 1s 107ms/step - loss: 0.0178 - acc: 1.0000 - val_loss: 0.3003 - val_acc: 0.9000\n",
      "Epoch 37/50\n",
      "12/12 [==============================] - 1s 125ms/step - loss: 0.0172 - acc: 1.0000 - val_loss: 0.2755 - val_acc: 0.9500\n",
      "Epoch 38/50\n",
      "12/12 [==============================] - 1s 111ms/step - loss: 0.0167 - acc: 1.0000 - val_loss: 0.2716 - val_acc: 0.9500\n",
      "Epoch 39/50\n",
      "12/12 [==============================] - 1s 114ms/step - loss: 0.0165 - acc: 1.0000 - val_loss: 0.2850 - val_acc: 0.9500\n",
      "Epoch 40/50\n",
      "12/12 [==============================] - 1s 123ms/step - loss: 0.0161 - acc: 1.0000 - val_loss: 0.3102 - val_acc: 0.9500\n",
      "Epoch 41/50\n",
      "12/12 [==============================] - 1s 113ms/step - loss: 0.0157 - acc: 1.0000 - val_loss: 0.2633 - val_acc: 0.9500\n",
      "Epoch 42/50\n",
      "12/12 [==============================] - 1s 107ms/step - loss: 0.0153 - acc: 1.0000 - val_loss: 0.2305 - val_acc: 0.9500\n",
      "Epoch 43/50\n",
      "12/12 [==============================] - 1s 112ms/step - loss: 0.0153 - acc: 1.0000 - val_loss: 0.3119 - val_acc: 0.9000\n",
      "Epoch 44/50\n",
      "12/12 [==============================] - 1s 114ms/step - loss: 0.0149 - acc: 1.0000 - val_loss: 0.3304 - val_acc: 0.9000\n",
      "Epoch 45/50\n",
      "12/12 [==============================] - 1s 108ms/step - loss: 0.0146 - acc: 1.0000 - val_loss: 0.2739 - val_acc: 0.9500\n",
      "Epoch 46/50\n",
      "12/12 [==============================] - 1s 110ms/step - loss: 0.0143 - acc: 1.0000 - val_loss: 0.2660 - val_acc: 0.9500\n",
      "Epoch 47/50\n",
      "12/12 [==============================] - 1s 112ms/step - loss: 0.0139 - acc: 1.0000 - val_loss: 0.3128 - val_acc: 0.9500\n",
      "Epoch 48/50\n",
      "12/12 [==============================] - 1s 108ms/step - loss: 0.0136 - acc: 1.0000 - val_loss: 0.3310 - val_acc: 0.9000\n",
      "Epoch 49/50\n",
      "12/12 [==============================] - 1s 109ms/step - loss: 0.0132 - acc: 1.0000 - val_loss: 0.3007 - val_acc: 0.9500\n",
      "Epoch 50/50\n",
      "12/12 [==============================] - 1s 110ms/step - loss: 0.0129 - acc: 1.0000 - val_loss: 0.3155 - val_acc: 0.9500\n"
     ]
    }
   ],
   "source": [
    "model.compile(optimizer=optimizers.RMSprop(lr=2e-5),\n",
    "              loss='binary_crossentropy',\n",
    "              metrics=['acc'])\n",
    "\n",
    "history = model.fit(train_features, train_labels,\n",
    "                    epochs=50,\n",
    "                    batch_size=10,\n",
    "                    validation_data=(validation_features, validation_labels))"
   ]
  },
  {
   "cell_type": "code",
   "execution_count": 59,
   "id": "c4c5207e",
   "metadata": {},
   "outputs": [
    {
     "data": {
      "image/png": "[encoded data removed]",
      "text/plain": [
       "<Figure size 432x288 with 1 Axes>"
      ]
     },
     "metadata": {
      "needs_background": "light"
     },
     "output_type": "display_data"
    },
    {
     "data": {
      "image/png": "[encoded data removed]",
      "text/plain": [
       "<Figure size 432x288 with 1 Axes>"
      ]
     },
     "metadata": {
      "needs_background": "light"
     },
     "output_type": "display_data"
    }
   ],
   "source": [
    "import matplotlib.pyplot as plt\n",
    "\n",
    "acc = history.history['acc']\n",
    "val_acc = history.history['val_acc']\n",
    "loss = history.history['loss']\n",
    "val_loss = history.history['val_loss']\n",
    "\n",
    "epochs = range(len(acc))\n",
    "\n",
    "plt.plot(epochs, acc, 'bo', label='Training acc')\n",
    "plt.plot(epochs, val_acc, 'b', label='Validation acc')\n",
    "plt.title('Training and validation accuracy')\n",
    "plt.legend()\n",
    "\n",
    "plt.figure()\n",
    "\n",
    "plt.plot(epochs, loss, 'bo', label='Training loss')\n",
    "plt.plot(epochs, val_loss, 'b', label='Validation loss')\n",
    "plt.title('Training and validation loss')\n",
    "plt.legend()\n",
    "\n",
    "plt.show()"
   ]
  },
  {
   "cell_type": "code",
   "execution_count": 60,
   "id": "8925eaa5",
   "metadata": {},
   "outputs": [
    {
     "name": "stdout",
     "output_type": "stream",
     "text": [
      "1/1 [==============================] - 0s 94ms/step - loss: 0.2076 - acc: 0.9000\n"
     ]
    }
   ],
   "source": [
    "test_loss, test_acc = model.evaluate(test_features, test_labels)"
   ]
  },
  {
   "cell_type": "code",
   "execution_count": 77,
   "id": "9c342e22",
   "metadata": {},
   "outputs": [],
   "source": [
    "pred = model.predict(test_features).flatten()"
   ]
  },
  {
   "cell_type": "code",
   "execution_count": 78,
   "id": "b862c38a",
   "metadata": {},
   "outputs": [
    {
     "data": {
      "text/plain": [
       "array([6.3431362e-05, 4.8346615e-01, 4.7747791e-03, 9.9999797e-01,\n",
       "       9.9999583e-01, 9.9999976e-01, 9.9995565e-01, 9.9999106e-01,\n",
       "       9.5695364e-01, 9.9669659e-01, 5.5184960e-04, 9.9998868e-01,\n",
       "       1.7201841e-02, 9.9998856e-01, 2.3716688e-04, 1.6876277e-06,\n",
       "       1.3496825e-06, 2.5057450e-05, 1.3652444e-04, 9.9794430e-01],\n",
       "      dtype=float32)"
      ]
     },
     "execution_count": 78,
     "metadata": {},
     "output_type": "execute_result"
    }
   ],
   "source": [
    "pred"
   ]
  },
  {
   "cell_type": "code",
   "execution_count": 71,
   "id": "b05bcc48",
   "metadata": {},
   "outputs": [],
   "source": [
    "import tensorflow as tf"
   ]
  },
  {
   "cell_type": "code",
   "execution_count": 79,
   "id": "c68df32b",
   "metadata": {},
   "outputs": [],
   "source": [
    "predictions = tf.nn.sigmoid(pred)\n"
   ]
  },
  {
   "cell_type": "code",
   "execution_count": 80,
   "id": "fd1b6880",
   "metadata": {},
   "outputs": [],
   "source": [
    "predictions = tf.where(pred < 0.5, 0, 1)"
   ]
  },
  {
   "cell_type": "code",
   "execution_count": 81,
   "id": "eda696c5",
   "metadata": {},
   "outputs": [
    {
     "name": "stdout",
     "output_type": "stream",
     "text": [
      "Predictions:\n",
      " [0 0 0 1 1 1 1 1 1 1 0 1 0 1 0 0 0 0 0 1]\n",
      "Labels:\n",
      " [0. 1. 0. 1. 1. 1. 1. 1. 0. 1. 0. 1. 0. 1. 0. 0. 0. 0. 0. 1.]\n"
     ]
    }
   ],
   "source": [
    "print('Predictions:\\n', predictions.numpy())\n",
    "print('Labels:\\n', test_labels)"
   ]
  },
  {
   "cell_type": "code",
   "execution_count": 82,
   "id": "a993961e",
   "metadata": {},
   "outputs": [
    {
     "name": "stdout",
     "output_type": "stream",
     "text": [
      "              precision    recall  f1-score   support\n",
      "\n",
      "           0       0.90      0.90      0.90        10\n",
      "           1       0.90      0.90      0.90        10\n",
      "\n",
      "    accuracy                           0.90        20\n",
      "   macro avg       0.90      0.90      0.90        20\n",
      "weighted avg       0.90      0.90      0.90        20\n",
      "\n"
     ]
    }
   ],
   "source": [
    "from sklearn.metrics import classification_report\n",
    "\n",
    "print(classification_report(predictions, test_labels))"
   ]
  },
  {
   "cell_type": "code",
   "execution_count": null,
   "id": "59caa0f5",
   "metadata": {},
   "outputs": [],
   "source": []
  }
 ],
 "metadata": {
  "kernelspec": {
   "display_name": "Python 3",
   "language": "python",
   "name": "python3"
  },
  "language_info": {
   "codemirror_mode": {
    "name": "ipython",
    "version": 3
   },
   "file_extension": ".py",
   "mimetype": "text/x-python",
   "name": "python",
   "nbconvert_exporter": "python",
   "pygments_lexer": "ipython3",
   "version": "3.9.5"
  }
 },
 "nbformat": 4,
 "nbformat_minor": 5
}
